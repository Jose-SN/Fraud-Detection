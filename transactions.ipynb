{
 "cells": [
  {
   "cell_type": "code",
   "execution_count": 1,
   "metadata": {},
   "outputs": [],
   "source": [
    "#1: Imports and Setup\n",
    "import pandas as pd\n",
    "import numpy as np\n",
    "import seaborn as sns\n",
    "import matplotlib.pyplot as plt\n",
    "from sklearn.model_selection import train_test_split\n",
    "from sklearn.preprocessing import StandardScaler, LabelEncoder\n",
    "from sklearn.ensemble import RandomForestClassifier\n",
    "from sklearn.linear_model import LogisticRegression\n",
    "from sklearn.metrics import classification_report, confusion_matrix, roc_auc_score\n",
    "from xgboost import XGBClassifier\n",
    "from lightgbm import LGBMClassifier\n",
    "from river import compose, linear_model, preprocessing, metrics, ensemble\n",
    "import joblib\n",
    "import os\n",
    "import warnings\n",
    "warnings.filterwarnings(\"ignore\")"
   ]
  },
  {
   "cell_type": "code",
   "execution_count": 2,
   "metadata": {},
   "outputs": [],
   "source": [
    "#2: Load and Merge Data\n",
    "data_dir = \"./assets\"\n",
    "train_transaction_path = os.path.join(data_dir, \"train_transaction.csv\")\n",
    "train_identity_path = os.path.join(data_dir, \"train_identity.csv\")\n",
    "\n",
    "df_train = pd.read_csv(train_transaction_path)\n",
    "df_identity = pd.read_csv(train_identity_path)\n",
    "df = df_train.merge(df_identity, on=\"TransactionID\", how=\"left\")\n"
   ]
  },
  {
   "cell_type": "code",
   "execution_count": 3,
   "metadata": {},
   "outputs": [],
   "source": [
    "#3: Data Cleaning\n",
    "df.fillna(-999, inplace=True)\n",
    "\n",
    "#Label Encoding for Categorical Columns\n",
    "cat_cols = df.select_dtypes(include=['object']).columns\n",
    "for col in cat_cols:\n",
    "    df[col] = LabelEncoder().fit_transform(df[col].astype(str))\n"
   ]
  },
  {
   "cell_type": "code",
   "execution_count": 4,
   "metadata": {},
   "outputs": [],
   "source": [
    "#4: Feature Selection and Splitting\n",
    "features = [\n",
    "    \"TransactionAmt\", \"card1\", \"card2\", \"dist1\", \"C1\", \"C2\", \"D1\", \"V1\", \"V2\"\n",
    "]\n",
    "\n",
    "X = df[features]\n",
    "y = df[\"isFraud\"]\n",
    "\n",
    "X_train, X_test, y_train, y_test = train_test_split(\n",
    "    X, y, test_size=0.2, random_state=42, stratify=y)\n",
    "\n",
    "#Standardization\n",
    "scaler = StandardScaler()\n",
    "X_train_scaled = scaler.fit_transform(X_train)\n",
    "X_test_scaled = scaler.transform(X_test)\n"
   ]
  },
  {
   "cell_type": "code",
   "execution_count": 6,
   "metadata": {},
   "outputs": [
    {
     "name": "stdout",
     "output_type": "stream",
     "text": [
      "\n",
      "Logistic Regression Report:\n",
      "              precision    recall  f1-score   support\n",
      "\n",
      "           0       0.97      1.00      0.98    113975\n",
      "           1       0.10      0.00      0.00      4133\n",
      "\n",
      "    accuracy                           0.96    118108\n",
      "   macro avg       0.53      0.50      0.49    118108\n",
      "weighted avg       0.93      0.96      0.95    118108\n",
      "\n",
      "ROC AUC: 0.6953815307615341\n",
      "\n",
      "Random Forest Report:\n",
      "              precision    recall  f1-score   support\n",
      "\n",
      "           0       0.98      1.00      0.99    113975\n",
      "           1       0.80      0.46      0.58      4133\n",
      "\n",
      "    accuracy                           0.98    118108\n",
      "   macro avg       0.89      0.73      0.79    118108\n",
      "weighted avg       0.97      0.98      0.97    118108\n",
      "\n",
      "ROC AUC: 0.8976541298172673\n",
      "\n",
      "XGBoost Report:\n",
      "              precision    recall  f1-score   support\n",
      "\n",
      "           0       0.98      1.00      0.99    113975\n",
      "           1       0.80      0.30      0.43      4133\n",
      "\n",
      "    accuracy                           0.97    118108\n",
      "   macro avg       0.89      0.65      0.71    118108\n",
      "weighted avg       0.97      0.97      0.97    118108\n",
      "\n",
      "ROC AUC: 0.8947382849917795\n",
      "[LightGBM] [Info] Number of positive: 16530, number of negative: 455902\n",
      "[LightGBM] [Info] Auto-choosing row-wise multi-threading, the overhead of testing was 0.003716 seconds.\n",
      "You can set `force_row_wise=true` to remove the overhead.\n",
      "And if memory is not enough, you can set `force_col_wise=true`.\n",
      "[LightGBM] [Info] Total Bins 1785\n",
      "[LightGBM] [Info] Number of data points in the train set: 472432, number of used features: 9\n",
      "[LightGBM] [Info] [binary:BoostFromScore]: pavg=0.034989 -> initscore=-3.317101\n",
      "[LightGBM] [Info] Start training from score -3.317101\n",
      "\n",
      "LightGBM Report:\n",
      "              precision    recall  f1-score   support\n",
      "\n",
      "           0       0.97      1.00      0.99    113975\n",
      "           1       0.81      0.23      0.36      4133\n",
      "\n",
      "    accuracy                           0.97    118108\n",
      "   macro avg       0.89      0.62      0.67    118108\n",
      "weighted avg       0.97      0.97      0.96    118108\n",
      "\n",
      "ROC AUC: 0.8770805802483097\n",
      "\n",
      "Best Model: RandomForestClassifier with ROC AUC: 0.8976541298172673\n"
     ]
    }
   ],
   "source": [
    "#5: Model Training with Evaluation\n",
    "models = {\n",
    "    \"Logistic Regression\": LogisticRegression(max_iter=500),\n",
    "    \"Random Forest\": RandomForestClassifier(n_estimators=100, n_jobs=-1),\n",
    "    \"XGBoost\": XGBClassifier(use_label_encoder=False, eval_metric=\"logloss\"),\n",
    "    \"LightGBM\": LGBMClassifier()\n",
    "}\n",
    "\n",
    "best_model = None\n",
    "best_score = 0\n",
    "\n",
    "for name, model in models.items():\n",
    "    model.fit(X_train_scaled, y_train)\n",
    "    y_pred = model.predict(X_test_scaled)\n",
    "    proba = model.predict_proba(X_test_scaled)[:, 1]\n",
    "    auc = roc_auc_score(y_test, proba)\n",
    "    print(f\"\\n{name} Report:\")\n",
    "    print(classification_report(y_test, y_pred))\n",
    "    print(\"ROC AUC:\", auc)\n",
    "    if auc > best_score:\n",
    "        best_score = auc\n",
    "        best_model = model\n",
    "\n",
    "joblib.dump(best_model, \"best_fraud_detection_model.pkl\")\n",
    "joblib.dump(scaler, \"scaler.pkl\")\n",
    "joblib.dump(features, \"features.pkl\")\n",
    "print(f\"\\nBest Model: {best_model.__class__.__name__} with ROC AUC: {best_score}\")\n"
   ]
  },
  {
   "cell_type": "code",
   "execution_count": 7,
   "metadata": {},
   "outputs": [
    {
     "name": "stdout",
     "output_type": "stream",
     "text": [
      "Starting River Online Learning...\n"
     ]
    },
    {
     "name": "stderr",
     "output_type": "stream",
     "text": [
      "  0%|          | 1/10000 [00:00<00:24, 406.86it/s]\n"
     ]
    },
    {
     "ename": "AttributeError",
     "evalue": "'NoneType' object has no attribute 'learn_one'",
     "output_type": "error",
     "traceback": [
      "\u001b[31m---------------------------------------------------------------------------\u001b[39m",
      "\u001b[31mAttributeError\u001b[39m                            Traceback (most recent call last)",
      "\u001b[36mCell\u001b[39m\u001b[36m \u001b[39m\u001b[32mIn[7]\u001b[39m\u001b[32m, line 48\u001b[39m\n\u001b[32m     45\u001b[39m         total += \u001b[32m1\u001b[39m\n\u001b[32m     47\u001b[39m     \u001b[38;5;66;03m# Learn from the current instance\u001b[39;00m\n\u001b[32m---> \u001b[39m\u001b[32m48\u001b[39m     online_model = \u001b[43monline_model\u001b[49m\u001b[43m.\u001b[49m\u001b[43mlearn_one\u001b[49m(x, y)\n\u001b[32m     50\u001b[39m \u001b[38;5;66;03m# Final results\u001b[39;00m\n\u001b[32m     51\u001b[39m \u001b[38;5;28mprint\u001b[39m(\u001b[33m\"\u001b[39m\u001b[38;5;130;01m\\n\u001b[39;00m\u001b[33m✅ River Online Learning Summary:\u001b[39m\u001b[33m\"\u001b[39m)\n",
      "\u001b[31mAttributeError\u001b[39m: 'NoneType' object has no attribute 'learn_one'"
     ]
    }
   ],
   "source": [
    "# #6: Online Learning using River\n",
    "\n",
    "from river import preprocessing as rv_pre\n",
    "from river import compose as rv_comp\n",
    "from river import metrics as rv_metrics\n",
    "from river import linear_model\n",
    "from tqdm import tqdm\n",
    "\n",
    "# Sample a manageable portion of data for online simulation\n",
    "stream_df = df.sample(10000, random_state=42).copy()\n",
    "\n",
    "# Ensure consistent feature usage\n",
    "stream_df = stream_df[[\"isFraud\"] + features]\n",
    "\n",
    "# Initialize the online model pipeline\n",
    "online_model = compose.Pipeline(\n",
    "    ('scale', preprocessing.StandardScaler()),\n",
    "    ('model', linear_model.LogisticRegression())\n",
    ")\n",
    "\n",
    "# Initialize metrics\n",
    "acc = rv_metrics.Accuracy()\n",
    "rocauc = rv_metrics.ROCAUC()\n",
    "\n",
    "# Tracking for results\n",
    "correct = 0\n",
    "total = 0\n",
    "\n",
    "# Warm-up phase\n",
    "WARMUP = 50\n",
    "\n",
    "# Perform online learning with progress bar\n",
    "print(\"Starting River Online Learning...\")\n",
    "for i, row in tqdm(enumerate(stream_df.itertuples(index=False), start=1), total=len(stream_df)):\n",
    "    row = row._asdict()\n",
    "    y = row.pop(\"isFraud\")\n",
    "    x = row\n",
    "\n",
    "    if i > WARMUP:\n",
    "        y_pred = online_model.predict_one(x)\n",
    "        if y_pred is not None:\n",
    "            acc = acc.update(y, y_pred)\n",
    "            rocauc = rocauc.update(y, y_pred)\n",
    "            correct += int(y_pred == y)\n",
    "        total += 1\n",
    "\n",
    "    # Learn from the current instance\n",
    "    online_model = online_model.learn_one(x, y)\n",
    "\n",
    "# Final results\n",
    "print(\"\\n✅ River Online Learning Summary:\")\n",
    "if total > 0:\n",
    "    print(\"Accuracy:\", round(acc.get(), 4))\n",
    "    print(\"ROC AUC:\", round(rocauc.get(), 4))\n",
    "    print(f\"Correct predictions after warm-up: {correct}/{total}\")\n",
    "else:\n",
    "    print(\"No valid predictions were made. Try reducing WARMUP or inspecting your data.\")\n"
   ]
  },
  {
   "cell_type": "code",
   "execution_count": null,
   "metadata": {},
   "outputs": [],
   "source": [
    "#7: Save River Model (optional for extended use)\n",
    "import dill\n",
    "with open(\"river_online_model.dill\", \"wb\") as f:\n",
    "    dill.dump(online_model, f)\n"
   ]
  },
  {
   "cell_type": "code",
   "execution_count": 8,
   "metadata": {},
   "outputs": [
    {
     "data": {
      "image/png": "[encoded data removed]",
      "text/plain": [
       "<Figure size 1000x800 with 1 Axes>"
      ]
     },
     "metadata": {},
     "output_type": "display_data"
    }
   ],
   "source": [
    "#8: Feature Importance Visualization (for tree models)\n",
    "if hasattr(best_model, 'feature_importances_'):\n",
    "    feat_imp = pd.Series(best_model.feature_importances_, index=X.columns)\n",
    "    feat_imp.nlargest(20).plot(kind='barh', figsize=(10, 8))\n",
    "    plt.title(\"Top 20 Feature Importances\")\n",
    "    plt.tight_layout()\n",
    "    plt.show()\n"
   ]
  },
  {
   "cell_type": "code",
   "execution_count": 9,
   "metadata": {},
   "outputs": [
    {
     "data": {
      "image/png": "[encoded data removed]",
      "text/plain": [
       "<Figure size 640x480 with 2 Axes>"
      ]
     },
     "metadata": {},
     "output_type": "display_data"
    }
   ],
   "source": [
    "#9: Confusion Matrix\n",
    "sns.heatmap(confusion_matrix(y_test, y_pred), annot=True, fmt=\"d\")\n",
    "plt.title(\"Confusion Matrix\")\n",
    "plt.xlabel(\"Predicted\")\n",
    "plt.ylabel(\"Actual\")\n",
    "plt.show()\n"
   ]
  },
  {
   "cell_type": "code",
   "execution_count": 10,
   "metadata": {},
   "outputs": [
    {
     "name": "stdout",
     "output_type": "stream",
     "text": [
      "\n",
      "Workflow completed successfully. Model and scaler saved. API ready for deployment.\n"
     ]
    }
   ],
   "source": [
    "#10: Final Notes\n",
    "print(\"\\nWorkflow completed successfully. Model and scaler saved. API ready for deployment.\")"
   ]
  }
 ],
 "metadata": {
  "kernelspec": {
   "display_name": ".venv",
   "language": "python",
   "name": "python3"
  },
  "language_info": {
   "codemirror_mode": {
    "name": "ipython",
    "version": 3
   },
   "file_extension": ".py",
   "mimetype": "text/x-python",
   "name": "python",
   "nbconvert_exporter": "python",
   "pygments_lexer": "ipython3",
   "version": "3.13.2"
  }
 },
 "nbformat": 4,
 "nbformat_minor": 2
}
