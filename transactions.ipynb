{
 "cells": [
  {
   "cell_type": "code",
   "execution_count": 19,
   "metadata": {},
   "outputs": [],
   "source": [
    "#1: Imports and Setup\n",
    "#%pip install pandas numpy seaborn matplotlib scikit-learn xgboost lightgbm river joblib\n",
    "\n",
    "import pandas as pd\n",
    "import numpy as np\n",
    "import seaborn as sns\n",
    "import matplotlib.pyplot as plt\n",
    "from sklearn.model_selection import train_test_split\n",
    "from sklearn.preprocessing import StandardScaler, LabelEncoder\n",
    "from sklearn.ensemble import RandomForestClassifier\n",
    "from sklearn.linear_model import LogisticRegression\n",
    "from sklearn.metrics import classification_report, confusion_matrix, roc_auc_score\n",
    "from xgboost import XGBClassifier\n",
    "from lightgbm import LGBMClassifier\n",
    "from river import compose, linear_model, preprocessing, metrics, ensemble\n",
    "import joblib\n",
    "import os\n",
    "import warnings\n",
    "warnings.filterwarnings(\"ignore\")"
   ]
  },
  {
   "cell_type": "code",
   "execution_count": 20,
   "metadata": {},
   "outputs": [],
   "source": [
    "#2: Load and Merge Data\n",
    "data_dir = \"./assets\"\n",
    "train_transaction_path = os.path.join(data_dir, \"train_transaction.csv\")\n",
    "train_identity_path = os.path.join(data_dir, \"train_identity.csv\")\n",
    "\n",
    "df_train = pd.read_csv(train_transaction_path)\n",
    "df_identity = pd.read_csv(train_identity_path)\n",
    "df = df_train.merge(df_identity, on=\"TransactionID\", how=\"left\")\n"
   ]
  },
  {
   "cell_type": "code",
   "execution_count": 22,
   "metadata": {},
   "outputs": [],
   "source": [
    "#3: Data Cleaning\n",
    "df.fillna(-999, inplace=True)\n",
    "\n",
    "#Label Encoding for Categorical Columns\n",
    "cat_cols = df.select_dtypes(include=['object']).columns\n",
    "for col in cat_cols:\n",
    "    df[col] = LabelEncoder().fit_transform(df[col].astype(str))\n"
   ]
  },
  {
   "cell_type": "code",
   "execution_count": 23,
   "metadata": {},
   "outputs": [],
   "source": [
    "#4: Feature Selection and Splitting\n",
    "features = [\n",
    "    \"TransactionAmt\", \"card1\", \"card2\", \"dist1\", \"C1\", \"C2\", \"D1\", \"V1\", \"V2\"\n",
    "]\n",
    "\n",
    "X = df[features]\n",
    "y = df[\"isFraud\"]\n",
    "\n",
    "X_train, X_test, y_train, y_test = train_test_split(\n",
    "    X, y, test_size=0.2, random_state=42, stratify=y)\n",
    "\n",
    "#Standardization\n",
    "scaler = StandardScaler()\n",
    "X_train_scaled = scaler.fit_transform(X_train)\n",
    "X_test_scaled = scaler.transform(X_test)\n"
   ]
  },
  {
   "cell_type": "code",
   "execution_count": 24,
   "metadata": {},
   "outputs": [
    {
     "name": "stdout",
     "output_type": "stream",
     "text": [
      "\n",
      "Logistic Regression Report:\n",
      "              precision    recall  f1-score   support\n",
      "\n",
      "           0     0.9824    0.5980    0.7434    113975\n",
      "           1     0.0597    0.7043    0.1101      4133\n",
      "\n",
      "    accuracy                         0.6017    118108\n",
      "   macro avg     0.5211    0.6512    0.4268    118108\n",
      "weighted avg     0.9501    0.6017    0.7213    118108\n",
      "\n",
      "ROC AUC: 0.7039704756525289\n",
      "\n",
      "Random Forest Report:\n",
      "              precision    recall  f1-score   support\n",
      "\n",
      "           0     0.9806    0.9959    0.9882    113975\n",
      "           1     0.8011    0.4571    0.5820      4133\n",
      "\n",
      "    accuracy                         0.9770    118108\n",
      "   macro avg     0.8909    0.7265    0.7851    118108\n",
      "weighted avg     0.9743    0.9770    0.9740    118108\n",
      "\n",
      "ROC AUC: 0.8971081044203252\n",
      "\n",
      "Random Forest Report:\n",
      "              precision    recall  f1-score   support\n",
      "\n",
      "           0     0.9806    0.9959    0.9882    113975\n",
      "           1     0.8011    0.4571    0.5820      4133\n",
      "\n",
      "    accuracy                         0.9770    118108\n",
      "   macro avg     0.8909    0.7265    0.7851    118108\n",
      "weighted avg     0.9743    0.9770    0.9740    118108\n",
      "\n",
      "ROC AUC: 0.8971081044203252\n",
      "\n",
      "XGBoost Report:\n",
      "              precision    recall  f1-score   support\n",
      "\n",
      "           0     0.9751    0.9974    0.9861    113975\n",
      "           1     0.8034    0.2976    0.4343      4133\n",
      "\n",
      "    accuracy                         0.9729    118108\n",
      "   macro avg     0.8892    0.6475    0.7102    118108\n",
      "weighted avg     0.9691    0.9729    0.9668    118108\n",
      "\n",
      "ROC AUC: 0.8947382849917795\n",
      "\n",
      "XGBoost Report:\n",
      "              precision    recall  f1-score   support\n",
      "\n",
      "           0     0.9751    0.9974    0.9861    113975\n",
      "           1     0.8034    0.2976    0.4343      4133\n",
      "\n",
      "    accuracy                         0.9729    118108\n",
      "   macro avg     0.8892    0.6475    0.7102    118108\n",
      "weighted avg     0.9691    0.9729    0.9668    118108\n",
      "\n",
      "ROC AUC: 0.8947382849917795\n",
      "[LightGBM] [Info] Number of positive: 16530, number of negative: 455902\n",
      "[LightGBM] [Info] Auto-choosing row-wise multi-threading, the overhead of testing was 0.007036 seconds.\n",
      "You can set `force_row_wise=true` to remove the overhead.\n",
      "And if memory is not enough, you can set `force_col_wise=true`.\n",
      "[LightGBM] [Info] Total Bins 1785\n",
      "[LightGBM] [Info] Number of data points in the train set: 472432, number of used features: 9\n",
      "[LightGBM] [Info] [binary:BoostFromScore]: pavg=0.034989 -> initscore=-3.317101\n",
      "[LightGBM] [Info] Start training from score -3.317101\n",
      "[LightGBM] [Info] Number of positive: 16530, number of negative: 455902\n",
      "[LightGBM] [Info] Auto-choosing row-wise multi-threading, the overhead of testing was 0.007036 seconds.\n",
      "You can set `force_row_wise=true` to remove the overhead.\n",
      "And if memory is not enough, you can set `force_col_wise=true`.\n",
      "[LightGBM] [Info] Total Bins 1785\n",
      "[LightGBM] [Info] Number of data points in the train set: 472432, number of used features: 9\n",
      "[LightGBM] [Info] [binary:BoostFromScore]: pavg=0.034989 -> initscore=-3.317101\n",
      "[LightGBM] [Info] Start training from score -3.317101\n",
      "\n",
      "LightGBM Report:\n",
      "              precision    recall  f1-score   support\n",
      "\n",
      "           0     0.9730    0.9980    0.9853    113975\n",
      "           1     0.8098    0.2349    0.3642      4133\n",
      "\n",
      "    accuracy                         0.9713    118108\n",
      "   macro avg     0.8914    0.6165    0.6748    118108\n",
      "weighted avg     0.9672    0.9713    0.9636    118108\n",
      "\n",
      "ROC AUC: 0.8770805802483097\n",
      "\n",
      "Best Model: RandomForestClassifier with ROC AUC: 0.8971081044203252\n",
      "\n",
      "LightGBM Report:\n",
      "              precision    recall  f1-score   support\n",
      "\n",
      "           0     0.9730    0.9980    0.9853    113975\n",
      "           1     0.8098    0.2349    0.3642      4133\n",
      "\n",
      "    accuracy                         0.9713    118108\n",
      "   macro avg     0.8914    0.6165    0.6748    118108\n",
      "weighted avg     0.9672    0.9713    0.9636    118108\n",
      "\n",
      "ROC AUC: 0.8770805802483097\n",
      "\n",
      "Best Model: RandomForestClassifier with ROC AUC: 0.8971081044203252\n"
     ]
    }
   ],
   "source": [
    "#5: Model Training with Evaluation\n",
    "models = {\n",
    "    \"Logistic Regression\": LogisticRegression(max_iter=500, class_weight=\"balanced\"),\n",
    "    \"Random Forest\": RandomForestClassifier(n_estimators=100, n_jobs=-1),\n",
    "    \"XGBoost\": XGBClassifier(use_label_encoder=False, eval_metric=\"logloss\"),\n",
    "    \"LightGBM\": LGBMClassifier()\n",
    "}\n",
    "\n",
    "best_model = None\n",
    "best_score = 0\n",
    "\n",
    "for name, model in models.items():\n",
    "    model.fit(X_train_scaled, y_train)\n",
    "    y_pred = model.predict(X_test_scaled)\n",
    "    proba = model.predict_proba(X_test_scaled)[:, 1]\n",
    "    auc = roc_auc_score(y_test, proba)\n",
    "    print(f\"\\n{name} Report:\")\n",
    "    print(classification_report(y_test, y_pred, digits=4))\n",
    "    print(\"ROC AUC:\", roc_auc_score(y_test, proba))\n",
    "    if auc > best_score:\n",
    "        best_score = auc\n",
    "        best_model = model\n",
    "\n",
    "joblib.dump(best_model, \"best_fraud_detection_model.pkl\")\n",
    "joblib.dump(scaler, \"scaler.pkl\")\n",
    "joblib.dump(features, \"features.pkl\")\n",
    "print(f\"\\nBest Model: {best_model.__class__.__name__} with ROC AUC: {best_score}\")\n"
   ]
  },
  {
   "cell_type": "code",
   "execution_count": 15,
   "metadata": {},
   "outputs": [
    {
     "name": "stdout",
     "output_type": "stream",
     "text": [
      "Starting River Online Learning...\n"
     ]
    },
    {
     "name": "stderr",
     "output_type": "stream",
     "text": [
      "  0%|          | 0/10000 [00:00<?, ?it/s]\n",
      "\n"
     ]
    },
    {
     "ename": "RuntimeError",
     "evalue": "online_model became None after learn_one. Check River version and pipeline usage.",
     "output_type": "error",
     "traceback": [
      "\u001b[31m---------------------------------------------------------------------------\u001b[39m",
      "\u001b[31mRuntimeError\u001b[39m                              Traceback (most recent call last)",
      "\u001b[36mCell\u001b[39m\u001b[36m \u001b[39m\u001b[32mIn[15]\u001b[39m\u001b[32m, line 50\u001b[39m\n\u001b[32m     48\u001b[39m     online_model = online_model.learn_one(x, y)\n\u001b[32m     49\u001b[39m     \u001b[38;5;28;01mif\u001b[39;00m online_model \u001b[38;5;129;01mis\u001b[39;00m \u001b[38;5;28;01mNone\u001b[39;00m:\n\u001b[32m---> \u001b[39m\u001b[32m50\u001b[39m         \u001b[38;5;28;01mraise\u001b[39;00m \u001b[38;5;167;01mRuntimeError\u001b[39;00m(\u001b[33m\"\u001b[39m\u001b[33monline_model became None after learn_one. Check River version and pipeline usage.\u001b[39m\u001b[33m\"\u001b[39m)\n\u001b[32m     52\u001b[39m \u001b[38;5;66;03m# Final results\u001b[39;00m\n\u001b[32m     53\u001b[39m \u001b[38;5;28mprint\u001b[39m(\u001b[33m\"\u001b[39m\u001b[38;5;130;01m\\n\u001b[39;00m\u001b[33m✅ River Online Learning Summary:\u001b[39m\u001b[33m\"\u001b[39m)\n",
      "\u001b[31mRuntimeError\u001b[39m: online_model became None after learn_one. Check River version and pipeline usage."
     ]
    }
   ],
   "source": [
    "# #6: Online Learning using River\n",
    "\n",
    "from river import preprocessing as rv_pre\n",
    "from river import compose as rv_comp\n",
    "from river import metrics as rv_metrics\n",
    "from river import linear_model\n",
    "from tqdm import tqdm\n",
    "\n",
    "# Sample a manageable portion of data for online simulation\n",
    "stream_df = df.sample(10000, random_state=42).copy()\n",
    "\n",
    "# Ensure consistent feature usage\n",
    "stream_df = stream_df[[\"isFraud\"] + features]\n",
    "\n",
    "# Initialize the online model pipeline\n",
    "online_model = rv_comp.Pipeline(\n",
    "    ('scale', rv_pre.StandardScaler()),\n",
    "    ('model', linear_model.LogisticRegression())\n",
    ")\n",
    "\n",
    "# Initialize metrics\n",
    "acc = rv_metrics.Accuracy()\n",
    "rocauc = rv_metrics.ROCAUC()\n",
    "\n",
    "# Tracking for results\n",
    "correct = 0\n",
    "total = 0\n",
    "\n",
    "# Warm-up phase\n",
    "WARMUP = 50\n",
    "\n",
    "# Perform online learning with progress bar\n",
    "print(\"Starting River Online Learning...\")\n",
    "for i, row in tqdm(enumerate(stream_df.itertuples(index=False), start=1), total=len(stream_df)):\n",
    "    row = row._asdict()\n",
    "    y = row.pop(\"isFraud\")\n",
    "    x = row\n",
    "\n",
    "    if i > WARMUP:\n",
    "        y_pred = online_model.predict_one(x)\n",
    "        if y_pred is not None:\n",
    "            acc = acc.update(y, y_pred)\n",
    "            rocauc = rocauc.update(y, y_pred)\n",
    "            correct += int(y_pred == y)\n",
    "        total += 1\n",
    "\n",
    "    # Learn from the current instance\n",
    "    online_model = online_model.learn_one(x, y)\n",
    "    if online_model is None:\n",
    "        raise RuntimeError(\"online_model became None after learn_one. Check River version and pipeline usage.\")\n",
    "\n",
    "# Final results\n",
    "print(\"\\n✅ River Online Learning Summary:\")\n",
    "if total > 0:\n",
    "    print(\"Accuracy:\", round(acc.get(), 4))\n",
    "    print(\"ROC AUC:\", round(rocauc.get(), 4))\n",
    "    print(f\"Correct predictions after warm-up: {correct}/{total}\")\n",
    "else:\n",
    "    print(\"No valid predictions were made. Try reducing WARMUP or inspecting your data.\")\n"
   ]
  },
  {
   "cell_type": "code",
   "execution_count": 25,
   "metadata": {},
   "outputs": [],
   "source": [
    "#7: Save River Model (optional for extended use)\n",
    "import dill\n",
    "with open(\"river_online_model.dill\", \"wb\") as f:\n",
    "    dill.dump(online_model, f)\n"
   ]
  },
  {
   "cell_type": "code",
   "execution_count": 26,
   "metadata": {},
   "outputs": [
    {
     "data": {
      "image/png": "[encoded data removed]",
      "text/plain": [
       "<Figure size 1000x800 with 1 Axes>"
      ]
     },
     "metadata": {},
     "output_type": "display_data"
    }
   ],
   "source": [
    "#8: Feature Importance Visualization (for tree models)\n",
    "if hasattr(best_model, 'feature_importances_'):\n",
    "    feat_imp = pd.Series(best_model.feature_importances_, index=X.columns)\n",
    "    feat_imp.nlargest(20).plot(kind='barh', figsize=(10, 8))\n",
    "    plt.title(\"Top 20 Feature Importances\")\n",
    "    plt.tight_layout()\n",
    "    plt.show()\n"
   ]
  },
  {
   "cell_type": "code",
   "execution_count": 27,
   "metadata": {},
   "outputs": [
    {
     "data": {
      "image/png": "[encoded data removed]",
      "text/plain": [
       "<Figure size 640x480 with 2 Axes>"
      ]
     },
     "metadata": {},
     "output_type": "display_data"
    }
   ],
   "source": [
    "#9: Confusion Matrix\n",
    "sns.heatmap(confusion_matrix(y_test, y_pred), annot=True, fmt=\"d\")\n",
    "plt.title(\"Confusion Matrix\")\n",
    "plt.xlabel(\"Predicted\")\n",
    "plt.ylabel(\"Actual\")\n",
    "plt.show()\n"
   ]
  },
  {
   "cell_type": "code",
   "execution_count": 28,
   "metadata": {},
   "outputs": [
    {
     "name": "stdout",
     "output_type": "stream",
     "text": [
      "\n",
      "Workflow completed successfully. Model and scaler saved. API ready for deployment.\n"
     ]
    }
   ],
   "source": [
    "#10: Final Notes\n",
    "print(\"\\nWorkflow completed successfully. Model and scaler saved. API ready for deployment.\")"
   ]
  }
 ],
 "metadata": {
  "kernelspec": {
   "display_name": ".venv",
   "language": "python",
   "name": "python3"
  },
  "language_info": {
   "codemirror_mode": {
    "name": "ipython",
    "version": 3
   },
   "file_extension": ".py",
   "mimetype": "text/x-python",
   "name": "python",
   "nbconvert_exporter": "python",
   "pygments_lexer": "ipython3",
   "version": "3.13.2"
  }
 },
 "nbformat": 4,
 "nbformat_minor": 2
}
